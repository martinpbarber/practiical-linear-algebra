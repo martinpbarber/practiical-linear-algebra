{
 "cells": [
  {
   "cell_type": "markdown",
   "metadata": {},
   "source": [
    "# Chapter 2: Vectors Part 1"
   ]
  },
  {
   "cell_type": "code",
   "execution_count": 1,
   "metadata": {},
   "outputs": [],
   "source": [
    "import numpy as np"
   ]
  },
  {
   "cell_type": "markdown",
   "metadata": {},
   "source": [
    "## Creating and Visualizing Vector in NumPy"
   ]
  },
  {
   "cell_type": "code",
   "execution_count": 2,
   "metadata": {},
   "outputs": [],
   "source": [
    "asList = [1,2,3]\n",
    "asArray = np.array([1,2,3]) # 1D array\n",
    "rowVec = np.array([ [1,2,3] ]) # Row vector\n",
    "colVec = np.array([ [1], [2], [3]]) # Column vector"
   ]
  },
  {
   "cell_type": "code",
   "execution_count": 3,
   "metadata": {},
   "outputs": [
    {
     "name": "stdout",
     "output_type": "stream",
     "text": [
      "asList:  (3,)\n",
      "asArray: (3,)\n",
      "rowVec:  (1, 3)\n",
      "colVec:  (3, 1)\n"
     ]
    }
   ],
   "source": [
    "print(f'asList:  {np.shape(asList)}') # List\n",
    "print(f'asArray: {asArray.shape}') # List\n",
    "print(f'rowVec:  {rowVec.shape}') # 1 row x 3 col vector\n",
    "print(f'colVec:  {colVec.shape}') # 3 row x 1 col vector"
   ]
  },
  {
   "cell_type": "markdown",
   "metadata": {},
   "source": [
    "## Operations on Vectors"
   ]
  },
  {
   "cell_type": "markdown",
   "metadata": {},
   "source": [
    "### Adding Vectors"
   ]
  },
  {
   "cell_type": "code",
   "execution_count": 4,
   "metadata": {},
   "outputs": [
    {
     "name": "stdout",
     "output_type": "stream",
     "text": [
      "operands could not be broadcast together with shapes (4,) (3,) \n"
     ]
    }
   ],
   "source": [
    "v = np.array([4,5,6])\n",
    "w = np.array([10,20,30])\n",
    "u = np.array([0,3,6,9])\n",
    "\n",
    "vPlusW = v + w\n",
    "try:\n",
    "    uPlusW = u + w # Error mismatched dimensions\n",
    "except ValueError as err:\n",
    "    print(err)"
   ]
  },
  {
   "cell_type": "code",
   "execution_count": 5,
   "metadata": {},
   "outputs": [
    {
     "name": "stdout",
     "output_type": "stream",
     "text": [
      "v.shape: (1, 3)\n",
      "w.shape: (3, 1)\n",
      "[[14 15 16]\n",
      " [24 25 26]\n",
      " [34 35 36]]\n"
     ]
    }
   ],
   "source": [
    "v = np.array([ [4,5,6] ]) # row vector\n",
    "w = np.array([ [10,20,30] ]).T # column vector\n",
    "\n",
    "print(f'v.shape: {v.shape}')\n",
    "print(f'w.shape: {w.shape}')\n",
    "print(v + w) # not expected results, v and w are broadcast, i.e expanded to matching shape"
   ]
  },
  {
   "cell_type": "markdown",
   "metadata": {},
   "source": [
    "### Geometry of Vector Addition and Subtraction"
   ]
  },
  {
   "cell_type": "markdown",
   "metadata": {},
   "source": [
    "### Scalar-Vector Multiplication"
   ]
  },
  {
   "cell_type": "code",
   "execution_count": 6,
   "metadata": {},
   "outputs": [
    {
     "name": "stdout",
     "output_type": "stream",
     "text": [
      "[2, 3, 4, 2, 3, 4]\n",
      "[4 6 8]\n"
     ]
    }
   ],
   "source": [
    "s = 2\n",
    "a = [2,3,4] # list\n",
    "b = np.array(a) # np array\n",
    "\n",
    "print(s * a) # repeats list s times\n",
    "print(s * b) # performs scalar-vector multiplication"
   ]
  },
  {
   "cell_type": "markdown",
   "metadata": {},
   "source": [
    "### Scalar-Vector Addition"
   ]
  },
  {
   "cell_type": "code",
   "execution_count": 7,
   "metadata": {},
   "outputs": [
    {
     "name": "stdout",
     "output_type": "stream",
     "text": [
      "[5 8]\n"
     ]
    }
   ],
   "source": [
    "s = 2\n",
    "v = np.array([3,6])\n",
    "\n",
    "print(s + v) # not defined in linear algebra, but works with numpy"
   ]
  },
  {
   "cell_type": "markdown",
   "metadata": {},
   "source": [
    "### Geometry of Scalar-Vector Multiplication"
   ]
  },
  {
   "cell_type": "code",
   "execution_count": null,
   "metadata": {},
   "outputs": [],
   "source": []
  },
  {
   "cell_type": "markdown",
   "metadata": {},
   "source": [
    "### Transpose"
   ]
  },
  {
   "cell_type": "code",
   "execution_count": 8,
   "metadata": {},
   "outputs": [
    {
     "name": "stdout",
     "output_type": "stream",
     "text": [
      "v: shape: (1, 3)\n",
      "[[1 2 3]]\n",
      "t: shape: (3, 1)\n",
      "[[1]\n",
      " [2]\n",
      " [3]]\n"
     ]
    }
   ],
   "source": [
    "v = np.array([ [1,2,3] ])\n",
    "t = v.T\n",
    "\n",
    "print(f'v: shape: {v.shape}\\n{v}')\n",
    "print(f't: shape: {t.shape}\\n{t}')"
   ]
  },
  {
   "cell_type": "markdown",
   "metadata": {},
   "source": [
    "### Vector Broadcasting in Python"
   ]
  },
  {
   "cell_type": "code",
   "execution_count": 9,
   "metadata": {},
   "outputs": [
    {
     "name": "stdout",
     "output_type": "stream",
     "text": [
      "v.shape: (3, 1)\n",
      "w.shape: (1, 2)\n",
      "[[11 21]\n",
      " [12 22]\n",
      " [13 23]]\n"
     ]
    }
   ],
   "source": [
    "v = np.array([ [1,2,3] ]).T # col vector\n",
    "w = np.array([ [10,20] ])   # row vector\n",
    "\n",
    "print(f'v.shape: {v.shape}')\n",
    "print(f'w.shape: {w.shape}')\n",
    "print(v + w) # addition with broadcasting"
   ]
  },
  {
   "cell_type": "markdown",
   "metadata": {},
   "source": [
    "## Vector Magnitude and Unit Vectors "
   ]
  },
  {
   "cell_type": "code",
   "execution_count": 10,
   "metadata": {},
   "outputs": [
    {
     "name": "stdout",
     "output_type": "stream",
     "text": [
      "vector: [[1 2 3 7 8 9]]\n",
      "len: 1\n",
      "norm: 14.422205101855956\n",
      "unit: [[0.06933752 0.13867505 0.20801257 0.48536267 0.5547002  0.62403772]]\n",
      "norm: 1.0\n"
     ]
    }
   ],
   "source": [
    "v = np.array([ [1,2,3,7,8,9] ])\n",
    "print(f\"vector: {v}\")\n",
    "\n",
    "v_dim = len(v) # number of dimensions of the array\n",
    "print(f\"len: {v_dim}\")\n",
    "\n",
    "v_mag = np.linalg.norm(v) # magnitude, i.e. length or norm\n",
    "print(f\"norm: {v_mag}\")\n",
    "\n",
    "v_hat = v/v_mag\n",
    "print(f\"unit: {v_hat}\")\n",
    "print(f\"norm: {np.linalg.norm(v_hat)}\")"
   ]
  },
  {
   "cell_type": "markdown",
   "metadata": {},
   "source": [
    "## Vector Dot Product (Inner Product)"
   ]
  },
  {
   "cell_type": "code",
   "execution_count": 11,
   "metadata": {},
   "outputs": [
    {
     "name": "stdout",
     "output_type": "stream",
     "text": [
      "shapes (1,4) and (1,4) not aligned: 4 (dim 1) != 1 (dim 0)\n",
      "[[70]]\n",
      "70\n",
      "70\n",
      "700\n"
     ]
    }
   ],
   "source": [
    "v = np.array([ [1,2,3,4] ])\n",
    "w = np.array([ [5,6,7,8] ])\n",
    "\n",
    "try:\n",
    "    np.dot(v, w) # not properly aligned, need row and column vector\n",
    "except ValueError as err:\n",
    "    print(err)\n",
    "\n",
    "dot = np.dot(v, w.T) # first must be row, second must be column because dot is matrix multiplication\n",
    "print(dot)        # matrix form\n",
    "print(dot.item()) # scalar form\n",
    "\n",
    "dot = np.vdot(v, w) # vdot can also be used, but only for vectors \n",
    "print(dot)\n",
    "\n",
    "s = 10\n",
    "scaled_dot = np.vdot(s * v, w) # scaling a vector, scales the dot product by the same amount\n",
    "print(scaled_dot)"
   ]
  },
  {
   "cell_type": "markdown",
   "metadata": {},
   "source": [
    "### Dot Product is Distributive"
   ]
  },
  {
   "cell_type": "code",
   "execution_count": 12,
   "metadata": {},
   "outputs": [
    {
     "name": "stdout",
     "output_type": "stream",
     "text": [
      "110 110 True\n"
     ]
    }
   ],
   "source": [
    "# NOTE: these are arrays, not vectors, so transposing is not required when using dot below\n",
    "a = np.array([ 0, 1, 2 ])\n",
    "b = np.array([ 3, 5, 8 ])\n",
    "c = np.array([ 13, 21, 34 ])\n",
    "\n",
    "# dot product is distributive, a(b+c) == ab + ac\n",
    "result_1 = np.dot(a, b+c)\n",
    "result_2 = np.dot(a, b) + np.dot(a, c)\n",
    "\n",
    "print(result_1, result_2, result_1 == result_2)"
   ]
  },
  {
   "cell_type": "markdown",
   "metadata": {},
   "source": [
    "### Geometry of the Dot Product"
   ]
  },
  {
   "cell_type": "code",
   "execution_count": null,
   "metadata": {},
   "outputs": [],
   "source": []
  },
  {
   "cell_type": "markdown",
   "metadata": {},
   "source": [
    "## Other Vector Multiplications"
   ]
  },
  {
   "cell_type": "markdown",
   "metadata": {},
   "source": [
    "### Hadamard Multiplication"
   ]
  },
  {
   "cell_type": "code",
   "execution_count": 13,
   "metadata": {},
   "outputs": [
    {
     "name": "stdout",
     "output_type": "stream",
     "text": [
      "[ 5.  0.  4. -2.]\n"
     ]
    }
   ],
   "source": [
    "a = np.array([ 5, 4, 8, 2 ])\n",
    "b = np.array([ 1, 0, .5, -1])\n",
    "\n",
    "print(a * b) # element-wise multiplication"
   ]
  },
  {
   "cell_type": "markdown",
   "metadata": {},
   "source": [
    "### Outer Product"
   ]
  },
  {
   "cell_type": "code",
   "execution_count": 14,
   "metadata": {},
   "outputs": [
    {
     "name": "stdout",
     "output_type": "stream",
     "text": [
      "(3, 1)\n",
      "(2, 1)\n",
      "[[10 20]\n",
      " [20 40]\n",
      " [30 60]]\n",
      "[[10 20]\n",
      " [20 40]\n",
      " [30 60]]\n",
      "shapes (3,1) and (2,1) not aligned: 1 (dim 1) != 2 (dim 0)\n",
      "shapes (1,3) and (2,1) not aligned: 3 (dim 1) != 2 (dim 0)\n"
     ]
    }
   ],
   "source": [
    "v = np.array([[1],[2],[3]]) # column vector\n",
    "w = np.array([[10],[20]])   # column vector\n",
    "\n",
    "print(v.shape)\n",
    "print(w.shape)\n",
    "\n",
    "print(np.outer(v, w)) # outer product\n",
    "\n",
    "print(np.dot(v, w.T)) # outer product\n",
    "\n",
    "try:\n",
    "    print(np.dot(v, w))\n",
    "except ValueError as err:\n",
    "    print(err) # not aligned\n",
    "\n",
    "try:\n",
    "    print(np.dot(v.T, w)) # dot product\n",
    "except ValueError as err:\n",
    "    print(err) # not aligned\n"
   ]
  },
  {
   "cell_type": "markdown",
   "metadata": {},
   "source": [
    "## Orthongonal Vector Decomposition"
   ]
  },
  {
   "cell_type": "code",
   "execution_count": null,
   "metadata": {},
   "outputs": [],
   "source": []
  },
  {
   "cell_type": "markdown",
   "metadata": {},
   "source": [
    "## Exercises"
   ]
  },
  {
   "cell_type": "code",
   "execution_count": 15,
   "metadata": {},
   "outputs": [],
   "source": [
    "import matplotlib.pyplot as plt"
   ]
  },
  {
   "cell_type": "markdown",
   "metadata": {},
   "source": [
    "### Exercise 2.1"
   ]
  },
  {
   "cell_type": "code",
   "execution_count": 16,
   "metadata": {},
   "outputs": [
    {
     "name": "stdout",
     "output_type": "stream",
     "text": [
      "v: (2, 1)\n",
      "[[1]\n",
      " [2]]\n",
      "w: (2, 1)\n",
      "[[ 4]\n",
      " [-6]]\n",
      "v + w: \n",
      "[[ 5]\n",
      " [-4]]\n",
      "v - w: \n",
      "[[-3]\n",
      " [ 8]]\n"
     ]
    },
    {
     "data": {
      "image/png": "[encoded data removed]",
      "text/plain": [
       "<Figure size 1100x500 with 2 Axes>"
      ]
     },
     "metadata": {},
     "output_type": "display_data"
    }
   ],
   "source": [
    "v = np.array([[1],[2]])\n",
    "w = np.array([[4],[-6]])\n",
    "\n",
    "v_plus_w = v + w\n",
    "v_minus_w = v - w\n",
    "\n",
    "print(f\"v: {v.shape}\\n{v}\")\n",
    "print(f\"w: {w.shape}\\n{w}\")\n",
    "print(f\"v + w: \\n{v_plus_w}\")\n",
    "print(f\"v - w: \\n{v_minus_w}\")\n",
    "\n",
    "\n",
    "fig, ax = plt.subplots(1,2,figsize=(11, 5))\n",
    "WIDTH = .1\n",
    "\n",
    "# Figure 1\n",
    "ax[0].set_xlim([-6, 6])\n",
    "ax[0].set_ylim([-6, 6])\n",
    "ax[0].grid()\n",
    "ax[0].set_title(\"Vectors v, w and v+w\")\n",
    "ax[0].arrow(0, 0, v[0,0], v[1,0], width=WIDTH,length_includes_head=True, color='blue')\n",
    "ax[0].arrow(v[0,0], v[1,0], w[0,0], w[1,0], width=WIDTH,length_includes_head=True, color='black')\n",
    "ax[0].arrow(0, 0, v_plus_w[0,0], v_plus_w[1,0], width=WIDTH,length_includes_head=True, color='gray')\n",
    "ax[0].legend(['v', 'w', 'v + w'])\n",
    "\n",
    "# Figure 2\n",
    "ax[1].set_xlim([-6, 6])\n",
    "ax[1].set_ylim([-6, 6])\n",
    "ax[1].grid()\n",
    "ax[1].set_title(\"Vectors v, w and v-w\")\n",
    "ax[1].arrow(0, 0, v[0,0], v[1,0], width=WIDTH,length_includes_head=True, color='blue')\n",
    "ax[1].arrow(0, 0, w[0,0], w[1,0], width=WIDTH,length_includes_head=True, color='black')\n",
    "ax[1].arrow(w[0,0], w[1,0], v_minus_w[0,0], v_minus_w[1,0], width=WIDTH,length_includes_head=True, color='gray')\n",
    "ax[1].legend(['v', 'w', 'v - w'])\n",
    "\n",
    "plt.show()"
   ]
  },
  {
   "cell_type": "markdown",
   "metadata": {},
   "source": [
    "### Exercise 2-2"
   ]
  },
  {
   "cell_type": "code",
   "execution_count": 17,
   "metadata": {},
   "outputs": [
    {
     "name": "stdout",
     "output_type": "stream",
     "text": [
      "v1: (2,)\n",
      "[0 0]\n",
      "norm: 0.0\n",
      "np_norm: 0.0\n",
      "ps_norm: 0.0\n",
      "Equal? True\n",
      "Correct: 0.0\n",
      "v1: (2,)\n",
      "[1 2]\n",
      "norm: 2.23606797749979\n",
      "np_norm: 2.23606797749979\n",
      "ps_norm: 2.23606797749979\n",
      "Equal? True\n",
      "Correct: 2.23606797749979\n",
      "v2: (1, 2)\n",
      "[[3 4]]\n",
      "norm: 5.0\n",
      "np_norm: 5.0\n",
      "ps_norm: 5.0\n",
      "Equal? True\n",
      "Not Correct: [[3.         3.46410162]\n",
      " [3.46410162 4.        ]]\n",
      "v3: (2, 1)\n",
      "[[5]\n",
      " [6]]\n",
      "norm: 7.810249675906654\n",
      "np_norm: 7.810249675906654\n",
      "ps_norm: 7.810249675906654\n",
      "Equal? True\n",
      "Correct, but array: [[7.81024968]]\n"
     ]
    }
   ],
   "source": [
    "def norm(vector):\n",
    "    sum = 0\n",
    "    for value in np.nditer(vector):\n",
    "        sum = sum + (value**2)\n",
    "    norm = np.sqrt(sum)\n",
    "    return norm\n",
    "\n",
    "# This avoids looping and therefore\n",
    "# provides better performance\n",
    "#\n",
    "# Avoid loops like above when possible\n",
    "def provided_solution(vector):\n",
    "    return np.sqrt(np.sum(vector**2))\n",
    "\n",
    "# NOTE:\n",
    "# Dot product of a vector with itself, np.dot(vector.T,vector)\n",
    "# is the same as sum of squares, np.sum(vector**2)\n",
    "# but dealing with shape would make the function more complex\n",
    "def dot_norm(vector):\n",
    "    # Fails depending on shape\n",
    "    return np.sqrt(np.dot(vector.T,vector))\n",
    "\n",
    "v0 = np.array([0,0])\n",
    "print(f\"v1: {v0.shape}\\n{v0}\")\n",
    "norm_v0 = norm(v0)\n",
    "print(f\"norm: {norm_v0}\")\n",
    "np_norm_v0 = np.linalg.norm(v0)\n",
    "print(f\"np_norm: {np_norm_v0}\")\n",
    "ps_norm_v0 = provided_solution(v0)\n",
    "print(f\"ps_norm: {ps_norm_v0}\")\n",
    "print(\"Equal?\", norm_v0 == np_norm_v0 == ps_norm_v0)\n",
    "dot_norm_v0 = dot_norm(v0)\n",
    "print(f\"Correct: {dot_norm_v0}\")\n",
    "\n",
    "v1 = np.array([1,2])\n",
    "print(f\"v1: {v1.shape}\\n{v1}\")\n",
    "norm_v1 = norm(v1)\n",
    "print(f\"norm: {norm_v1}\")\n",
    "np_norm_v1 = np.linalg.norm(v1)\n",
    "print(f\"np_norm: {np_norm_v1}\")\n",
    "ps_norm_v1 = provided_solution(v1)\n",
    "print(f\"ps_norm: {ps_norm_v1}\")\n",
    "print(\"Equal?\", norm_v1 == np_norm_v1 == ps_norm_v1)\n",
    "dot_norm_v1 = dot_norm(v1)\n",
    "print(f\"Correct: {dot_norm_v1}\")\n",
    "\n",
    "v2 = np.array([ [3,4] ])\n",
    "print(f\"v2: {v2.shape}\\n{v2}\")\n",
    "norm_v2 = norm(v2)\n",
    "print(f\"norm: {norm_v2}\")\n",
    "np_norm_v2 = np.linalg.norm(v2)\n",
    "print(f\"np_norm: {np_norm_v2}\")\n",
    "ps_norm_v2 = provided_solution(v2)\n",
    "print(f\"ps_norm: {ps_norm_v2}\")\n",
    "print(\"Equal?\", norm_v2 == np_norm_v2 == ps_norm_v2)\n",
    "dot_norm_v2 = dot_norm(v2)\n",
    "print(f\"Not Correct: {dot_norm_v2}\")\n",
    "\n",
    "v3 = np.array([ [5],[6] ])\n",
    "print(f\"v3: {v3.shape}\\n{v3}\")\n",
    "norm_v3 = norm(v3)\n",
    "print(f\"norm: {norm_v3}\")\n",
    "np_norm_v3 = np.linalg.norm(v3)\n",
    "print(f\"np_norm: {np_norm_v3}\")\n",
    "ps_norm_v3 = provided_solution(v3)\n",
    "print(f\"ps_norm: {ps_norm_v3}\")\n",
    "print(\"Equal?\", norm_v3 == np_norm_v3 == ps_norm_v3)\n",
    "dot_norm_v3 = dot_norm(v3)\n",
    "print(f\"Correct, but array: {dot_norm_v3}\")\n"
   ]
  },
  {
   "cell_type": "markdown",
   "metadata": {},
   "source": [
    "### Exercise 2-3"
   ]
  },
  {
   "cell_type": "code",
   "execution_count": 18,
   "metadata": {},
   "outputs": [
    {
     "name": "stdout",
     "output_type": "stream",
     "text": [
      "vector: [[0 0]], norm: 0.0\n",
      "unit:   [[0 0]], norm: 0.0\n",
      "vector: [[ 3 -4]], norm: 5.0\n",
      "unit:   [[ 0.6 -0.8]], norm: 1.0\n"
     ]
    }
   ],
   "source": [
    "def unit(vector):\n",
    "    norm = np.linalg.norm(vector)\n",
    "    # Return vector if norm is zero to avoid divide by zero error\n",
    "    # Could also just let the divide by zero happen raising exception\n",
    "    if norm == 0:\n",
    "        return vector\n",
    "    return vector/norm\n",
    "\n",
    "v0 = np.array([ [0,0] ])\n",
    "print(f\"vector: {v0}, norm: {np.linalg.norm(v0)}\")\n",
    "v0_hat = unit(v0)\n",
    "print(f\"unit:   {v0_hat}, norm: {np.linalg.norm(v0_hat)}\")\n",
    "\n",
    "v1 = np.array([ [3,-4] ])\n",
    "print(f\"vector: {v1}, norm: {np.linalg.norm(v1)}\")\n",
    "v1_hat = unit(v1)\n",
    "print(f\"unit:   {v1_hat}, norm: {np.linalg.norm(v1_hat)}\")\n"
   ]
  },
  {
   "cell_type": "markdown",
   "metadata": {},
   "source": [
    "### Exercise 2-4"
   ]
  },
  {
   "cell_type": "code",
   "execution_count": 19,
   "metadata": {},
   "outputs": [
    {
     "name": "stdout",
     "output_type": "stream",
     "text": [
      "New norm: 8\n",
      "vector: [[0 0]], norm: 0.0\n",
      "vector: [[0 0]], norm: 0.0\n",
      "vector: [[ 3 -4]], norm: 5.0\n",
      "vector: [[ 4.8 -6.4]], norm: 8.0\n"
     ]
    }
   ],
   "source": [
    "def vector_to_magnitude(vector, new_magnitude):\n",
    "    unit_vector = unit(vector)\n",
    "    return new_magnitude * unit_vector\n",
    "\n",
    "new_magnitude = 8\n",
    "print(f\"New norm: {new_magnitude}\")\n",
    "\n",
    "v0 = np.array([ [0,0] ])\n",
    "print(f\"vector: {v0}, norm: {np.linalg.norm(v0)}\")\n",
    "v0_mag = vector_to_magnitude(v0, new_magnitude)\n",
    "print(f\"vector: {v0_mag}, norm: {np.linalg.norm(v0_mag)}\")\n",
    "\n",
    "v1 = np.array([ [3,-4] ])\n",
    "print(f\"vector: {v1}, norm: {np.linalg.norm(v1)}\")\n",
    "v1_mag = vector_to_magnitude(v1, new_magnitude)\n",
    "print(f\"vector: {v1_mag}, norm: {np.linalg.norm(v1_mag)}\")"
   ]
  },
  {
   "cell_type": "code",
   "execution_count": null,
   "metadata": {},
   "outputs": [],
   "source": []
  }
 ],
 "metadata": {
  "kernelspec": {
   "display_name": "Python 3 (ipykernel)",
   "language": "python",
   "name": "python3"
  },
  "language_info": {
   "codemirror_mode": {
    "name": "ipython",
    "version": 3
   },
   "file_extension": ".py",
   "mimetype": "text/x-python",
   "name": "python",
   "nbconvert_exporter": "python",
   "pygments_lexer": "ipython3",
   "version": "3.10.6"
  }
 },
 "nbformat": 4,
 "nbformat_minor": 2
}
